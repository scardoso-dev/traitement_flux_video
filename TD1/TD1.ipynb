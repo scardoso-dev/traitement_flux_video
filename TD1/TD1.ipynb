{
 "cells": [
  {
   "cell_type": "markdown",
   "id": "b33a4a4e-9c40-461f-8969-2a03b228ac7b",
   "metadata": {},
   "source": [
    "<div align=\"center\" style=\"margin-bottom: 0; color: #cb76dd;\">\n",
    "    <h1 style=\"margin: 0;\">5IC-IG2 Traitement flux vidéo\n",
    "</h1>\n",
    "    <h4 style=\"margin: 15px 0;\">2024 - 2025, ESIEE-IT</h4>\n",
    "    <h4 style=\"margin: 5px 0;\">Enseigné par Badr TAJINI</h4>\n",
    "</div>\n",
    "\n",
    "<br><br>\n",
    "\n",
    "<div align=\"center\" style=\"margin-bottom: 0; color: #005E99;\">\n",
    "    <h2 style=\"margin: 0;\">TD1 : Single Object Tracking</h2>\n",
    "    <h4 style=\"margin: 5px 0;\">Réalisé par Samuel CRDOSO & Kevin TCHA</h4>\n",
    "</div>\n",
    "\n",
    "<br> \n",
    "\n",
    "---"
   ]
  },
  {
   "cell_type": "code",
   "execution_count": 9,
   "id": "051ecf6d-eaee-4145-b7fd-883b6be77290",
   "metadata": {},
   "outputs": [
    {
     "name": "stdout",
     "output_type": "stream",
     "text": [
      "[INFO] Loading video...\n",
      "[INFO] Starting video playback...\n"
     ]
    },
    {
     "data": {
      "text/html": [
       "\n",
       "        <video width=\"600\" controls>\n",
       "            <source src=\"output_video.mp4\" type=\"video/mp4\">\n",
       "            Your browser does not support the video tag.\n",
       "        </video>\n",
       "        "
      ],
      "text/plain": [
       "<IPython.core.display.HTML object>"
      ]
     },
     "execution_count": 9,
     "metadata": {},
     "output_type": "execute_result"
    }
   ],
   "source": [
    "import sys\n",
    "sys.path.append(\"scripts/\")\n",
    "\n",
    "# Importation de la classe ObjectTracker\n",
    "from opencv_object_tracking_notebook import ObjectTracker\n",
    "\n",
    "# Initialisation du tracker\n",
    "tracker = ObjectTracker(tracker_type=\"mosse\")\n",
    "\n",
    "# Lancement du suivi sur une vidéo\n",
    "tracker.start_tracking(video_path=\"videos/dashcam_boston.mp4\")"
   ]
  },
  {
   "cell_type": "markdown",
   "id": "4b90995f-2373-416b-b3fd-47f4a7faa90d",
   "metadata": {},
   "source": [
    "# Rapport"
   ]
  },
  {
   "cell_type": "markdown",
   "id": "127a8185-fe95-4193-b316-77a1655adf4a",
   "metadata": {},
   "source": [
    "## Objectif du TD\n",
    "Le but de ce TD est d'acquérir des connaissances sur OpenCV et ses applications au traitement des flux vidéo en utilisant différents trackers d'objets.\n",
    "\n",
    "---\n",
    "\n",
    "## Trackers Disponibles\n",
    "Les trackers testés dans ce TD incluent :\n",
    "\n",
    "- **BOOSTING** : Basé sur les cascades Haar, rapide mais obsolète.\n",
    "- **MIL** : Plus précis que BOOSTING mais peu fiable pour les échecs.\n",
    "- **KCF** : Rapide et précis, mais sensible aux occultations.\n",
    "- **CSRT** : Plus précis que KCF mais légèrement plus lent.\n",
    "- **MedianFlow** : Bonne gestion des échecs, mais inefficace pour les mouvements rapides.\n",
    "- **TLD** : Prone aux faux positifs, déconseillé.\n",
    "- **MOSSE** : Très rapide mais moins précis.\n",
    "\n",
    "---\n",
    "\n",
    "## Observations sur les Performances\n",
    "Les observations suivantes ont été effectuées en utilisant une vidéo d'exemple `dashcam_boston.mp4` :\n",
    "\n",
    "| Tracker       | Précision     | Vitesse (FPS) | Observations                           |\n",
    "|---------------|---------------|---------------|---------------------------------------|\n",
    "| **BOOSTING**  | Faible        | 20 FPS        | Mauvaise gestion des occultations.    |\n",
    "| **MIL**       | Moyenne       | 18 FPS        | Problèmes pour suivre des objets rapides. |\n",
    "| **KCF**       | Bonne         | 25 FPS        | Sensible aux occultations.            |\n",
    "| **CSRT**      | Très bonne    | 22 FPS        | Précis mais plus lent que KCF.        |\n",
    "| **MedianFlow**| Moyenne       | 15 FPS        | Bonne gestion des échecs, mais inefficace pour les mouvements rapides. |\n",
    "| **TLD**       | Faible        | 10 FPS        | Fréquemment des faux positifs.        |\n",
    "| **MOSSE**     | Moyenne       | 30 FPS        | Rapide mais manque de précision.      |\n",
    "\n",
    "---\n",
    "\n",
    "## Recommandations\n",
    "- Le **CSRT** est recommandé pour des applications nécessitant une grande précision, notamment dans des scénarios où les objets se déplacent lentement et sont bien visibles.\n",
    "- Le **KCF** est un bon compromis entre vitesse et précision pour des cas où les occultations sont limitées.\n",
    "- Le **MOSSE** est idéal pour des applications nécessitant une très haute vitesse de traitement au détriment de la précision.\n",
    "\n",
    "---\n",
    "\n",
    "## Conclusion\n",
    "Ce TD a permis d’explorer les capacités d’OpenCV pour le suivi d’objets. Les résultats montrent que le choix du tracker dépend fortement du contexte d'application, des performances requises, et des contraintes de traitement."
   ]
  }
 ],
 "metadata": {
  "kernelspec": {
   "display_name": "Python 3 (ipykernel)",
   "language": "python",
   "name": "python3"
  },
  "language_info": {
   "codemirror_mode": {
    "name": "ipython",
    "version": 3
   },
   "file_extension": ".py",
   "mimetype": "text/x-python",
   "name": "python",
   "nbconvert_exporter": "python",
   "pygments_lexer": "ipython3",
   "version": "3.11.11"
  }
 },
 "nbformat": 4,
 "nbformat_minor": 5
}
